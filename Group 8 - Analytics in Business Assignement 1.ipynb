{
 "cells": [
  {
   "cell_type": "markdown",
   "metadata": {},
   "source": [
    "# OC&C Gym Membership"
   ]
  },
  {
   "cell_type": "markdown",
   "metadata": {},
   "source": [
    "## 1. Abstract"
   ]
  },
  {
   "cell_type": "markdown",
   "metadata": {},
   "source": [
    "The primary objective of the research is to analyse and improve the churn rate of the customers at OC&Gym. In order to accomplish this objective, an exploratory data analysis (EDA) is conducted to uncover key trends and actionable insights. This procedure includes computing descriptive statistics, feature engineering, and visualizing datasets. Additionally, cohort analysis was conducted using Python. The data was segmented based on various features to analyze customer behaviors of different segments and to observe patterns in the data that could be utilised for making recommendations to the customers. As expected, the result indicates that the churn rate has increased in response to OC&Gym's price hike across all subscription plans. The majority of churned customers were composed of the standard plan subscription members, which contradicts OC&Gym's initial hypothesis of competitor-driven churn. The reason is because if the hypothesis proves to be true, the majority of churned customers would most likely composed of flexible customers whose subscription price is now almost indifferent to the competitor's standard plan, creating a compelling reason for these flexible customers who have little to no switching costs to switch to a more premium brand. As a result, the research has concluded that the main potential root cause of churn could be attributed to OC&Gym's three-month notification rule for standard customers that requires them to provide three-month notice before leaving. In sum, the policy effectively forces these customers to stay, prohibiting them from unsubscribing, and by extension, having to pay for this newly increased price for three months before they can finally unsubscribe. Therefore, the recommendation to OC&Gym is to amend this policy as it is an unjust rule that punishes loyal standard customers and making it appear as the company is trying to take advantage of its customers, which could potentially impact the its brand image and profitability. Specifically, OC&Gym can keep the three-month notification rule. However, in the event of a price increase, the customers will not have to pay for this new price, but instead continue to pay an old rate, prior to the price hike, until the three-month period is over."
   ]
  },
  {
   "cell_type": "markdown",
   "metadata": {},
   "source": [
    "## 2. Introduction"
   ]
  },
  {
   "cell_type": "markdown",
   "metadata": {},
   "source": [
    "The case study provides data for customer from OC&C gym where the information regarding the customers, and their visits to the gym were provided. Using this data, the team applied data analysis techniques in Python to draw insights to provide recommendations for increasing the revenue of OC&C gym."
   ]
  },
  {
   "cell_type": "markdown",
   "metadata": {},
   "source": [
    "## 3. Technologies and techniques"
   ]
  },
  {
   "cell_type": "code",
   "execution_count": null,
   "metadata": {},
   "outputs": [],
   "source": []
  },
  {
   "cell_type": "code",
   "execution_count": null,
   "metadata": {},
   "outputs": [],
   "source": []
  },
  {
   "cell_type": "markdown",
   "metadata": {},
   "source": [
    "## 4. Results"
   ]
  },
  {
   "cell_type": "code",
   "execution_count": null,
   "metadata": {},
   "outputs": [],
   "source": []
  },
  {
   "cell_type": "code",
   "execution_count": null,
   "metadata": {},
   "outputs": [],
   "source": []
  },
  {
   "cell_type": "markdown",
   "metadata": {},
   "source": [
    "## 5. Discussion"
   ]
  },
  {
   "cell_type": "markdown",
   "metadata": {},
   "source": [
    "### How could OC&Gym improve their pricing strategy? "
   ]
  },
  {
   "cell_type": "markdown",
   "metadata": {},
   "source": [
    "1. Structured Tiering: On the basis of the facilities to use. Allowing different timings on the basis of the tier which the member is part of. Example, Bronze tier would be able to visit the gym in the non-peak hours of the gym, and 3 visits in peak hours.\n",
    "\n",
    "The tiers would be:\n",
    "- Bronze\n",
    "- Silver\n",
    "- Gold\n",
    "\n",
    "\n",
    "2.Seasonal Pricing: As joiners are lower in the months of summer, offering discounted new joining prices would attract more members."
   ]
  },
  {
   "cell_type": "markdown",
   "metadata": {},
   "source": [
    "### What happened when the price was increased? "
   ]
  },
  {
   "cell_type": "markdown",
   "metadata": {},
   "source": [
    "Increasing the price led to a sharp fall in the number of members. \n",
    "\n",
    "TODO: Flexible members and Standard members comparison\n",
    "      Age wise comparison\n",
    "      Affluence comparison"
   ]
  },
  {
   "cell_type": "markdown",
   "metadata": {},
   "source": [
    "### What does this suggest as possible options going forward? "
   ]
  },
  {
   "cell_type": "code",
   "execution_count": null,
   "metadata": {},
   "outputs": [],
   "source": []
  },
  {
   "cell_type": "markdown",
   "metadata": {},
   "source": [
    "### In addition to price, what other factors influence whether a member is going to leave? "
   ]
  },
  {
   "cell_type": "code",
   "execution_count": null,
   "metadata": {},
   "outputs": [],
   "source": []
  },
  {
   "cell_type": "markdown",
   "metadata": {},
   "source": [
    "### Bonus: Given this, to what degree can we predict individual member churn? "
   ]
  },
  {
   "cell_type": "code",
   "execution_count": null,
   "metadata": {},
   "outputs": [],
   "source": []
  },
  {
   "cell_type": "markdown",
   "metadata": {},
   "source": [
    "### Key KPIs "
   ]
  },
  {
   "cell_type": "markdown",
   "metadata": {},
   "source": [
    "1. Customer Churn Rate\n",
    "2. Population Demographics in each gym location\n",
    "3. Feedback from customers\n",
    "4. Peak and non-peak visitations \n",
    "5. Hours of visit"
   ]
  },
  {
   "cell_type": "markdown",
   "metadata": {},
   "source": [
    "## 7. Appendix "
   ]
  },
  {
   "cell_type": "code",
   "execution_count": 154,
   "metadata": {},
   "outputs": [],
   "source": [
    "import matplotlib.pyplot as plt\n",
    "\n",
    "#disable some annoying warnings\n",
    "import warnings\n",
    "warnings.filterwarnings('ignore', category=FutureWarning)\n",
    "\n",
    "#plots the figures in place instead of a new window\n",
    "%matplotlib inline\n",
    "\n",
    "import matplotlib.pyplot as plt\n",
    "import seaborn as sns\n",
    "\n",
    "import pandas as pd\n",
    "import numpy as np\n",
    "import datetime\n",
    "from datetime import timedelta\n",
    "#from monthdelta import monthmod"
   ]
  },
  {
   "cell_type": "code",
   "execution_count": 155,
   "metadata": {},
   "outputs": [
    {
     "data": {
      "text/html": [
       "<div>\n",
       "<style scoped>\n",
       "    .dataframe tbody tr th:only-of-type {\n",
       "        vertical-align: middle;\n",
       "    }\n",
       "\n",
       "    .dataframe tbody tr th {\n",
       "        vertical-align: top;\n",
       "    }\n",
       "\n",
       "    .dataframe thead th {\n",
       "        text-align: right;\n",
       "    }\n",
       "</style>\n",
       "<table border=\"1\" class=\"dataframe\">\n",
       "  <thead>\n",
       "    <tr style=\"text-align: right;\">\n",
       "      <th></th>\n",
       "      <th>Club</th>\n",
       "      <th>Join Date</th>\n",
       "      <th>Affluence</th>\n",
       "      <th>Gender</th>\n",
       "      <th>Subscription Type</th>\n",
       "      <th>End Date</th>\n",
       "      <th>CustomerID</th>\n",
       "      <th>BirthYear</th>\n",
       "    </tr>\n",
       "  </thead>\n",
       "  <tbody>\n",
       "    <tr>\n",
       "      <th>0</th>\n",
       "      <td>Enfield</td>\n",
       "      <td>Dec-11</td>\n",
       "      <td>C1</td>\n",
       "      <td>Male</td>\n",
       "      <td>Standard</td>\n",
       "      <td>Dec-11</td>\n",
       "      <td>1</td>\n",
       "      <td>1992</td>\n",
       "    </tr>\n",
       "    <tr>\n",
       "      <th>1</th>\n",
       "      <td>Greenwich</td>\n",
       "      <td>Jun-18</td>\n",
       "      <td>A</td>\n",
       "      <td>Female</td>\n",
       "      <td>Standard</td>\n",
       "      <td>NaN</td>\n",
       "      <td>2</td>\n",
       "      <td>1972</td>\n",
       "    </tr>\n",
       "    <tr>\n",
       "      <th>2</th>\n",
       "      <td>Islington</td>\n",
       "      <td>Mar-18</td>\n",
       "      <td>B</td>\n",
       "      <td>Female</td>\n",
       "      <td>Standard</td>\n",
       "      <td>Oct-18</td>\n",
       "      <td>3</td>\n",
       "      <td>1985</td>\n",
       "    </tr>\n",
       "    <tr>\n",
       "      <th>3</th>\n",
       "      <td>Hounslow</td>\n",
       "      <td>Oct-15</td>\n",
       "      <td>C1</td>\n",
       "      <td>Female</td>\n",
       "      <td>Standard</td>\n",
       "      <td>Dec-15</td>\n",
       "      <td>4</td>\n",
       "      <td>1972</td>\n",
       "    </tr>\n",
       "    <tr>\n",
       "      <th>4</th>\n",
       "      <td>Barnet</td>\n",
       "      <td>May-15</td>\n",
       "      <td>C2</td>\n",
       "      <td>Male</td>\n",
       "      <td>Standard</td>\n",
       "      <td>Dec-15</td>\n",
       "      <td>5</td>\n",
       "      <td>1982</td>\n",
       "    </tr>\n",
       "  </tbody>\n",
       "</table>\n",
       "</div>"
      ],
      "text/plain": [
       "        Club Join Date Affluence  Gender Subscription Type End Date  \\\n",
       "0    Enfield    Dec-11        C1    Male          Standard   Dec-11   \n",
       "1  Greenwich    Jun-18         A  Female          Standard      NaN   \n",
       "2  Islington    Mar-18         B  Female          Standard   Oct-18   \n",
       "3   Hounslow    Oct-15        C1  Female          Standard   Dec-15   \n",
       "4     Barnet    May-15        C2    Male          Standard   Dec-15   \n",
       "\n",
       "   CustomerID  BirthYear  \n",
       "0           1       1992  \n",
       "1           2       1972  \n",
       "2           3       1985  \n",
       "3           4       1972  \n",
       "4           5       1982  "
      ]
     },
     "execution_count": 155,
     "metadata": {},
     "output_type": "execute_result"
    }
   ],
   "source": [
    "df = pd.read_csv(\"subscriptionsdataFINAL.csv\")\n",
    "df.head()"
   ]
  },
  {
   "cell_type": "code",
   "execution_count": 156,
   "metadata": {},
   "outputs": [
    {
     "name": "stdout",
     "output_type": "stream",
     "text": [
      "<class 'pandas.core.frame.DataFrame'>\n",
      "RangeIndex: 850033 entries, 0 to 850032\n",
      "Data columns (total 8 columns):\n",
      " #   Column             Non-Null Count   Dtype \n",
      "---  ------             --------------   ----- \n",
      " 0   Club               850033 non-null  object\n",
      " 1   Join Date          850033 non-null  object\n",
      " 2   Affluence          850033 non-null  object\n",
      " 3   Gender             850033 non-null  object\n",
      " 4   Subscription Type  850033 non-null  object\n",
      " 5   End Date           797656 non-null  object\n",
      " 6   CustomerID         850033 non-null  int64 \n",
      " 7   BirthYear          850033 non-null  int64 \n",
      "dtypes: int64(2), object(6)\n",
      "memory usage: 51.9+ MB\n"
     ]
    }
   ],
   "source": [
    "df.info()"
   ]
  },
  {
   "cell_type": "code",
   "execution_count": 157,
   "metadata": {},
   "outputs": [],
   "source": [
    "date_cols = [\"Join Date\", \"End Date\",]\n",
    "\n",
    "def date_parser(x):\n",
    "    try:\n",
    "        ans = pd.datetime.strptime(str(x), '%b-%y')\n",
    "    except ValueError:\n",
    "        ans = pd.NaT\n",
    "    return ans\n",
    "\n",
    "df = pd.read_csv(\"subscriptionsdataFINAL.csv\",\n",
    "                parse_dates=date_cols,\n",
    "                date_parser=date_parser\n",
    "                ).replace(pd.NaT, np.nan).sort_values(by='End Date')"
   ]
  },
  {
   "cell_type": "code",
   "execution_count": 98,
   "metadata": {},
   "outputs": [
    {
     "data": {
      "text/html": [
       "<div>\n",
       "<style scoped>\n",
       "    .dataframe tbody tr th:only-of-type {\n",
       "        vertical-align: middle;\n",
       "    }\n",
       "\n",
       "    .dataframe tbody tr th {\n",
       "        vertical-align: top;\n",
       "    }\n",
       "\n",
       "    .dataframe thead th {\n",
       "        text-align: right;\n",
       "    }\n",
       "</style>\n",
       "<table border=\"1\" class=\"dataframe\">\n",
       "  <thead>\n",
       "    <tr style=\"text-align: right;\">\n",
       "      <th></th>\n",
       "      <th>Club</th>\n",
       "      <th>Join Date</th>\n",
       "      <th>Affluence</th>\n",
       "      <th>Gender</th>\n",
       "      <th>Subscription Type</th>\n",
       "      <th>End Date</th>\n",
       "      <th>CustomerID</th>\n",
       "      <th>BirthYear</th>\n",
       "    </tr>\n",
       "  </thead>\n",
       "  <tbody>\n",
       "    <tr>\n",
       "      <th>539659</th>\n",
       "      <td>Hounslow</td>\n",
       "      <td>2009-05-01</td>\n",
       "      <td>A</td>\n",
       "      <td>Male</td>\n",
       "      <td>Flexible</td>\n",
       "      <td>2009-05-01</td>\n",
       "      <td>539660</td>\n",
       "      <td>1970</td>\n",
       "    </tr>\n",
       "    <tr>\n",
       "      <th>128370</th>\n",
       "      <td>Hounslow</td>\n",
       "      <td>2009-05-01</td>\n",
       "      <td>A</td>\n",
       "      <td>Female</td>\n",
       "      <td>Flexible</td>\n",
       "      <td>2009-05-01</td>\n",
       "      <td>128371</td>\n",
       "      <td>1981</td>\n",
       "    </tr>\n",
       "    <tr>\n",
       "      <th>120066</th>\n",
       "      <td>Hounslow</td>\n",
       "      <td>2009-05-01</td>\n",
       "      <td>C1</td>\n",
       "      <td>Female</td>\n",
       "      <td>Flexible</td>\n",
       "      <td>2009-05-01</td>\n",
       "      <td>120067</td>\n",
       "      <td>1972</td>\n",
       "    </tr>\n",
       "    <tr>\n",
       "      <th>602505</th>\n",
       "      <td>Hounslow</td>\n",
       "      <td>2009-05-01</td>\n",
       "      <td>C1</td>\n",
       "      <td>Male</td>\n",
       "      <td>Flexible</td>\n",
       "      <td>2009-05-01</td>\n",
       "      <td>602506</td>\n",
       "      <td>1983</td>\n",
       "    </tr>\n",
       "    <tr>\n",
       "      <th>707592</th>\n",
       "      <td>Hounslow</td>\n",
       "      <td>2009-05-01</td>\n",
       "      <td>C1</td>\n",
       "      <td>Female</td>\n",
       "      <td>Flexible</td>\n",
       "      <td>2009-05-01</td>\n",
       "      <td>707593</td>\n",
       "      <td>1976</td>\n",
       "    </tr>\n",
       "    <tr>\n",
       "      <th>...</th>\n",
       "      <td>...</td>\n",
       "      <td>...</td>\n",
       "      <td>...</td>\n",
       "      <td>...</td>\n",
       "      <td>...</td>\n",
       "      <td>...</td>\n",
       "      <td>...</td>\n",
       "      <td>...</td>\n",
       "    </tr>\n",
       "    <tr>\n",
       "      <th>849973</th>\n",
       "      <td>Hammersmith</td>\n",
       "      <td>2018-10-01</td>\n",
       "      <td>C1</td>\n",
       "      <td>Male</td>\n",
       "      <td>Standard</td>\n",
       "      <td>NaT</td>\n",
       "      <td>849974</td>\n",
       "      <td>1991</td>\n",
       "    </tr>\n",
       "    <tr>\n",
       "      <th>849981</th>\n",
       "      <td>Islington</td>\n",
       "      <td>2018-12-01</td>\n",
       "      <td>B</td>\n",
       "      <td>Male</td>\n",
       "      <td>Flexible</td>\n",
       "      <td>NaT</td>\n",
       "      <td>849982</td>\n",
       "      <td>1995</td>\n",
       "    </tr>\n",
       "    <tr>\n",
       "      <th>849983</th>\n",
       "      <td>Greenwich</td>\n",
       "      <td>2018-03-01</td>\n",
       "      <td>C1</td>\n",
       "      <td>Female</td>\n",
       "      <td>Standard</td>\n",
       "      <td>NaT</td>\n",
       "      <td>849984</td>\n",
       "      <td>1978</td>\n",
       "    </tr>\n",
       "    <tr>\n",
       "      <th>850020</th>\n",
       "      <td>Ealing</td>\n",
       "      <td>2018-08-01</td>\n",
       "      <td>C1</td>\n",
       "      <td>Male</td>\n",
       "      <td>Standard</td>\n",
       "      <td>NaT</td>\n",
       "      <td>850021</td>\n",
       "      <td>1982</td>\n",
       "    </tr>\n",
       "    <tr>\n",
       "      <th>850028</th>\n",
       "      <td>Lewisham</td>\n",
       "      <td>2018-12-01</td>\n",
       "      <td>A</td>\n",
       "      <td>Male</td>\n",
       "      <td>Standard</td>\n",
       "      <td>NaT</td>\n",
       "      <td>850029</td>\n",
       "      <td>1995</td>\n",
       "    </tr>\n",
       "  </tbody>\n",
       "</table>\n",
       "<p>850033 rows × 8 columns</p>\n",
       "</div>"
      ],
      "text/plain": [
       "               Club  Join Date Affluence  Gender Subscription Type   End Date  \\\n",
       "539659     Hounslow 2009-05-01         A    Male          Flexible 2009-05-01   \n",
       "128370     Hounslow 2009-05-01         A  Female          Flexible 2009-05-01   \n",
       "120066     Hounslow 2009-05-01        C1  Female          Flexible 2009-05-01   \n",
       "602505     Hounslow 2009-05-01        C1    Male          Flexible 2009-05-01   \n",
       "707592     Hounslow 2009-05-01        C1  Female          Flexible 2009-05-01   \n",
       "...             ...        ...       ...     ...               ...        ...   \n",
       "849973  Hammersmith 2018-10-01        C1    Male          Standard        NaT   \n",
       "849981    Islington 2018-12-01         B    Male          Flexible        NaT   \n",
       "849983    Greenwich 2018-03-01        C1  Female          Standard        NaT   \n",
       "850020       Ealing 2018-08-01        C1    Male          Standard        NaT   \n",
       "850028     Lewisham 2018-12-01         A    Male          Standard        NaT   \n",
       "\n",
       "        CustomerID  BirthYear  \n",
       "539659      539660       1970  \n",
       "128370      128371       1981  \n",
       "120066      120067       1972  \n",
       "602505      602506       1983  \n",
       "707592      707593       1976  \n",
       "...            ...        ...  \n",
       "849973      849974       1991  \n",
       "849981      849982       1995  \n",
       "849983      849984       1978  \n",
       "850020      850021       1982  \n",
       "850028      850029       1995  \n",
       "\n",
       "[850033 rows x 8 columns]"
      ]
     },
     "execution_count": 98,
     "metadata": {},
     "output_type": "execute_result"
    }
   ],
   "source": [
    "df"
   ]
  },
  {
   "cell_type": "markdown",
   "metadata": {},
   "source": [
    "### Number of people who leave after free month trial"
   ]
  },
  {
   "cell_type": "code",
   "execution_count": 72,
   "metadata": {},
   "outputs": [
    {
     "name": "stdout",
     "output_type": "stream",
     "text": [
      "Number of customers who left after first month: 46798\n"
     ]
    }
   ],
   "source": [
    "count = 0\n",
    "for i in range(0,len(df)):\n",
    "    if df['Join Date'][i] == df['End Date'][i]:\n",
    "        count +=1\n",
    "print(\"Number of customers who left after first month: {}\".format(count))"
   ]
  },
  {
   "cell_type": "markdown",
   "metadata": {},
   "source": [
    "### Verifying if there are any customers who ended their membership and then rejoined later."
   ]
  },
  {
   "cell_type": "markdown",
   "metadata": {},
   "source": [
    "Assuming that when a customer rejoins the gym, their Customer ID would remain the same."
   ]
  },
  {
   "cell_type": "code",
   "execution_count": 73,
   "metadata": {},
   "outputs": [
    {
     "data": {
      "text/plain": [
       "True"
      ]
     },
     "execution_count": 73,
     "metadata": {},
     "output_type": "execute_result"
    }
   ],
   "source": [
    "len(set(df['CustomerID'])) == df.shape[0]"
   ]
  },
  {
   "cell_type": "markdown",
   "metadata": {},
   "source": [
    "### Age of the Customers when they joined the gym"
   ]
  },
  {
   "cell_type": "code",
   "execution_count": 104,
   "metadata": {},
   "outputs": [
    {
     "data": {
      "text/html": [
       "<div>\n",
       "<style scoped>\n",
       "    .dataframe tbody tr th:only-of-type {\n",
       "        vertical-align: middle;\n",
       "    }\n",
       "\n",
       "    .dataframe tbody tr th {\n",
       "        vertical-align: top;\n",
       "    }\n",
       "\n",
       "    .dataframe thead th {\n",
       "        text-align: right;\n",
       "    }\n",
       "</style>\n",
       "<table border=\"1\" class=\"dataframe\">\n",
       "  <thead>\n",
       "    <tr style=\"text-align: right;\">\n",
       "      <th></th>\n",
       "      <th>Club</th>\n",
       "      <th>Join Date</th>\n",
       "      <th>Affluence</th>\n",
       "      <th>Gender</th>\n",
       "      <th>Subscription Type</th>\n",
       "      <th>End Date</th>\n",
       "      <th>CustomerID</th>\n",
       "      <th>BirthYear</th>\n",
       "      <th>Membership Length</th>\n",
       "      <th>Age</th>\n",
       "    </tr>\n",
       "  </thead>\n",
       "  <tbody>\n",
       "    <tr>\n",
       "      <th>539659</th>\n",
       "      <td>Hounslow</td>\n",
       "      <td>2009-05-01</td>\n",
       "      <td>A</td>\n",
       "      <td>Male</td>\n",
       "      <td>Flexible</td>\n",
       "      <td>2009-05-01</td>\n",
       "      <td>539660</td>\n",
       "      <td>1970</td>\n",
       "      <td>0 days</td>\n",
       "      <td>39</td>\n",
       "    </tr>\n",
       "    <tr>\n",
       "      <th>128370</th>\n",
       "      <td>Hounslow</td>\n",
       "      <td>2009-05-01</td>\n",
       "      <td>A</td>\n",
       "      <td>Female</td>\n",
       "      <td>Flexible</td>\n",
       "      <td>2009-05-01</td>\n",
       "      <td>128371</td>\n",
       "      <td>1981</td>\n",
       "      <td>0 days</td>\n",
       "      <td>28</td>\n",
       "    </tr>\n",
       "    <tr>\n",
       "      <th>120066</th>\n",
       "      <td>Hounslow</td>\n",
       "      <td>2009-05-01</td>\n",
       "      <td>C1</td>\n",
       "      <td>Female</td>\n",
       "      <td>Flexible</td>\n",
       "      <td>2009-05-01</td>\n",
       "      <td>120067</td>\n",
       "      <td>1972</td>\n",
       "      <td>0 days</td>\n",
       "      <td>37</td>\n",
       "    </tr>\n",
       "    <tr>\n",
       "      <th>602505</th>\n",
       "      <td>Hounslow</td>\n",
       "      <td>2009-05-01</td>\n",
       "      <td>C1</td>\n",
       "      <td>Male</td>\n",
       "      <td>Flexible</td>\n",
       "      <td>2009-05-01</td>\n",
       "      <td>602506</td>\n",
       "      <td>1983</td>\n",
       "      <td>0 days</td>\n",
       "      <td>26</td>\n",
       "    </tr>\n",
       "    <tr>\n",
       "      <th>707592</th>\n",
       "      <td>Hounslow</td>\n",
       "      <td>2009-05-01</td>\n",
       "      <td>C1</td>\n",
       "      <td>Female</td>\n",
       "      <td>Flexible</td>\n",
       "      <td>2009-05-01</td>\n",
       "      <td>707593</td>\n",
       "      <td>1976</td>\n",
       "      <td>0 days</td>\n",
       "      <td>33</td>\n",
       "    </tr>\n",
       "  </tbody>\n",
       "</table>\n",
       "</div>"
      ],
      "text/plain": [
       "            Club  Join Date Affluence  Gender Subscription Type   End Date  \\\n",
       "539659  Hounslow 2009-05-01         A    Male          Flexible 2009-05-01   \n",
       "128370  Hounslow 2009-05-01         A  Female          Flexible 2009-05-01   \n",
       "120066  Hounslow 2009-05-01        C1  Female          Flexible 2009-05-01   \n",
       "602505  Hounslow 2009-05-01        C1    Male          Flexible 2009-05-01   \n",
       "707592  Hounslow 2009-05-01        C1  Female          Flexible 2009-05-01   \n",
       "\n",
       "        CustomerID  BirthYear Membership Length  Age  \n",
       "539659      539660       1970            0 days   39  \n",
       "128370      128371       1981            0 days   28  \n",
       "120066      120067       1972            0 days   37  \n",
       "602505      602506       1983            0 days   26  \n",
       "707592      707593       1976            0 days   33  "
      ]
     },
     "execution_count": 104,
     "metadata": {},
     "output_type": "execute_result"
    }
   ],
   "source": [
    "df['Age'] =  df['Join Date'].dt.year - df['BirthYear']\n",
    "df.head()"
   ]
  },
  {
   "cell_type": "code",
   "execution_count": 105,
   "metadata": {},
   "outputs": [
    {
     "data": {
      "text/html": [
       "<div>\n",
       "<style scoped>\n",
       "    .dataframe tbody tr th:only-of-type {\n",
       "        vertical-align: middle;\n",
       "    }\n",
       "\n",
       "    .dataframe tbody tr th {\n",
       "        vertical-align: top;\n",
       "    }\n",
       "\n",
       "    .dataframe thead th {\n",
       "        text-align: right;\n",
       "    }\n",
       "</style>\n",
       "<table border=\"1\" class=\"dataframe\">\n",
       "  <thead>\n",
       "    <tr style=\"text-align: right;\">\n",
       "      <th></th>\n",
       "      <th>Club</th>\n",
       "      <th>Join Date</th>\n",
       "      <th>Affluence</th>\n",
       "      <th>Gender</th>\n",
       "      <th>Subscription Type</th>\n",
       "      <th>End Date</th>\n",
       "      <th>CustomerID</th>\n",
       "      <th>BirthYear</th>\n",
       "      <th>Membership Length</th>\n",
       "      <th>Age</th>\n",
       "    </tr>\n",
       "  </thead>\n",
       "  <tbody>\n",
       "    <tr>\n",
       "      <th>539659</th>\n",
       "      <td>Hounslow</td>\n",
       "      <td>2009-05-01</td>\n",
       "      <td>A</td>\n",
       "      <td>Male</td>\n",
       "      <td>Flexible</td>\n",
       "      <td>2009-05-01</td>\n",
       "      <td>539660</td>\n",
       "      <td>1970</td>\n",
       "      <td>0 days</td>\n",
       "      <td>39</td>\n",
       "    </tr>\n",
       "    <tr>\n",
       "      <th>128370</th>\n",
       "      <td>Hounslow</td>\n",
       "      <td>2009-05-01</td>\n",
       "      <td>A</td>\n",
       "      <td>Female</td>\n",
       "      <td>Flexible</td>\n",
       "      <td>2009-05-01</td>\n",
       "      <td>128371</td>\n",
       "      <td>1981</td>\n",
       "      <td>0 days</td>\n",
       "      <td>28</td>\n",
       "    </tr>\n",
       "    <tr>\n",
       "      <th>120066</th>\n",
       "      <td>Hounslow</td>\n",
       "      <td>2009-05-01</td>\n",
       "      <td>C1</td>\n",
       "      <td>Female</td>\n",
       "      <td>Flexible</td>\n",
       "      <td>2009-05-01</td>\n",
       "      <td>120067</td>\n",
       "      <td>1972</td>\n",
       "      <td>0 days</td>\n",
       "      <td>37</td>\n",
       "    </tr>\n",
       "    <tr>\n",
       "      <th>602505</th>\n",
       "      <td>Hounslow</td>\n",
       "      <td>2009-05-01</td>\n",
       "      <td>C1</td>\n",
       "      <td>Male</td>\n",
       "      <td>Flexible</td>\n",
       "      <td>2009-05-01</td>\n",
       "      <td>602506</td>\n",
       "      <td>1983</td>\n",
       "      <td>0 days</td>\n",
       "      <td>26</td>\n",
       "    </tr>\n",
       "    <tr>\n",
       "      <th>707592</th>\n",
       "      <td>Hounslow</td>\n",
       "      <td>2009-05-01</td>\n",
       "      <td>C1</td>\n",
       "      <td>Female</td>\n",
       "      <td>Flexible</td>\n",
       "      <td>2009-05-01</td>\n",
       "      <td>707593</td>\n",
       "      <td>1976</td>\n",
       "      <td>0 days</td>\n",
       "      <td>33</td>\n",
       "    </tr>\n",
       "    <tr>\n",
       "      <th>...</th>\n",
       "      <td>...</td>\n",
       "      <td>...</td>\n",
       "      <td>...</td>\n",
       "      <td>...</td>\n",
       "      <td>...</td>\n",
       "      <td>...</td>\n",
       "      <td>...</td>\n",
       "      <td>...</td>\n",
       "      <td>...</td>\n",
       "      <td>...</td>\n",
       "    </tr>\n",
       "    <tr>\n",
       "      <th>849973</th>\n",
       "      <td>Hammersmith</td>\n",
       "      <td>2018-10-01</td>\n",
       "      <td>C1</td>\n",
       "      <td>Male</td>\n",
       "      <td>Standard</td>\n",
       "      <td>NaT</td>\n",
       "      <td>849974</td>\n",
       "      <td>1991</td>\n",
       "      <td>NaT</td>\n",
       "      <td>27</td>\n",
       "    </tr>\n",
       "    <tr>\n",
       "      <th>849981</th>\n",
       "      <td>Islington</td>\n",
       "      <td>2018-12-01</td>\n",
       "      <td>B</td>\n",
       "      <td>Male</td>\n",
       "      <td>Flexible</td>\n",
       "      <td>NaT</td>\n",
       "      <td>849982</td>\n",
       "      <td>1995</td>\n",
       "      <td>NaT</td>\n",
       "      <td>23</td>\n",
       "    </tr>\n",
       "    <tr>\n",
       "      <th>849983</th>\n",
       "      <td>Greenwich</td>\n",
       "      <td>2018-03-01</td>\n",
       "      <td>C1</td>\n",
       "      <td>Female</td>\n",
       "      <td>Standard</td>\n",
       "      <td>NaT</td>\n",
       "      <td>849984</td>\n",
       "      <td>1978</td>\n",
       "      <td>NaT</td>\n",
       "      <td>40</td>\n",
       "    </tr>\n",
       "    <tr>\n",
       "      <th>850020</th>\n",
       "      <td>Ealing</td>\n",
       "      <td>2018-08-01</td>\n",
       "      <td>C1</td>\n",
       "      <td>Male</td>\n",
       "      <td>Standard</td>\n",
       "      <td>NaT</td>\n",
       "      <td>850021</td>\n",
       "      <td>1982</td>\n",
       "      <td>NaT</td>\n",
       "      <td>36</td>\n",
       "    </tr>\n",
       "    <tr>\n",
       "      <th>850028</th>\n",
       "      <td>Lewisham</td>\n",
       "      <td>2018-12-01</td>\n",
       "      <td>A</td>\n",
       "      <td>Male</td>\n",
       "      <td>Standard</td>\n",
       "      <td>NaT</td>\n",
       "      <td>850029</td>\n",
       "      <td>1995</td>\n",
       "      <td>NaT</td>\n",
       "      <td>23</td>\n",
       "    </tr>\n",
       "  </tbody>\n",
       "</table>\n",
       "<p>850033 rows × 10 columns</p>\n",
       "</div>"
      ],
      "text/plain": [
       "               Club  Join Date Affluence  Gender Subscription Type   End Date  \\\n",
       "539659     Hounslow 2009-05-01         A    Male          Flexible 2009-05-01   \n",
       "128370     Hounslow 2009-05-01         A  Female          Flexible 2009-05-01   \n",
       "120066     Hounslow 2009-05-01        C1  Female          Flexible 2009-05-01   \n",
       "602505     Hounslow 2009-05-01        C1    Male          Flexible 2009-05-01   \n",
       "707592     Hounslow 2009-05-01        C1  Female          Flexible 2009-05-01   \n",
       "...             ...        ...       ...     ...               ...        ...   \n",
       "849973  Hammersmith 2018-10-01        C1    Male          Standard        NaT   \n",
       "849981    Islington 2018-12-01         B    Male          Flexible        NaT   \n",
       "849983    Greenwich 2018-03-01        C1  Female          Standard        NaT   \n",
       "850020       Ealing 2018-08-01        C1    Male          Standard        NaT   \n",
       "850028     Lewisham 2018-12-01         A    Male          Standard        NaT   \n",
       "\n",
       "        CustomerID  BirthYear Membership Length  Age  \n",
       "539659      539660       1970            0 days   39  \n",
       "128370      128371       1981            0 days   28  \n",
       "120066      120067       1972            0 days   37  \n",
       "602505      602506       1983            0 days   26  \n",
       "707592      707593       1976            0 days   33  \n",
       "...            ...        ...               ...  ...  \n",
       "849973      849974       1991               NaT   27  \n",
       "849981      849982       1995               NaT   23  \n",
       "849983      849984       1978               NaT   40  \n",
       "850020      850021       1982               NaT   36  \n",
       "850028      850029       1995               NaT   23  \n",
       "\n",
       "[850033 rows x 10 columns]"
      ]
     },
     "execution_count": 105,
     "metadata": {},
     "output_type": "execute_result"
    }
   ],
   "source": [
    "df['Membership Length'] = (df[\"End Date\"] - df[\"Join Date\"])//30\n",
    "df"
   ]
  },
  {
   "cell_type": "code",
   "execution_count": 106,
   "metadata": {},
   "outputs": [
    {
     "data": {
      "text/html": [
       "<div>\n",
       "<style scoped>\n",
       "    .dataframe tbody tr th:only-of-type {\n",
       "        vertical-align: middle;\n",
       "    }\n",
       "\n",
       "    .dataframe tbody tr th {\n",
       "        vertical-align: top;\n",
       "    }\n",
       "\n",
       "    .dataframe thead th {\n",
       "        text-align: right;\n",
       "    }\n",
       "</style>\n",
       "<table border=\"1\" class=\"dataframe\">\n",
       "  <thead>\n",
       "    <tr style=\"text-align: right;\">\n",
       "      <th></th>\n",
       "      <th>count</th>\n",
       "    </tr>\n",
       "    <tr>\n",
       "      <th>Age</th>\n",
       "      <th></th>\n",
       "    </tr>\n",
       "  </thead>\n",
       "  <tbody>\n",
       "    <tr>\n",
       "      <th>18</th>\n",
       "      <td>0.014221</td>\n",
       "    </tr>\n",
       "    <tr>\n",
       "      <th>19</th>\n",
       "      <td>0.023807</td>\n",
       "    </tr>\n",
       "    <tr>\n",
       "      <th>20</th>\n",
       "      <td>0.029031</td>\n",
       "    </tr>\n",
       "    <tr>\n",
       "      <th>21</th>\n",
       "      <td>0.031596</td>\n",
       "    </tr>\n",
       "    <tr>\n",
       "      <th>22</th>\n",
       "      <td>0.032876</td>\n",
       "    </tr>\n",
       "    <tr>\n",
       "      <th>23</th>\n",
       "      <td>0.038978</td>\n",
       "    </tr>\n",
       "    <tr>\n",
       "      <th>24</th>\n",
       "      <td>0.041727</td>\n",
       "    </tr>\n",
       "    <tr>\n",
       "      <th>25</th>\n",
       "      <td>0.044755</td>\n",
       "    </tr>\n",
       "    <tr>\n",
       "      <th>26</th>\n",
       "      <td>0.045863</td>\n",
       "    </tr>\n",
       "    <tr>\n",
       "      <th>27</th>\n",
       "      <td>0.045745</td>\n",
       "    </tr>\n",
       "    <tr>\n",
       "      <th>28</th>\n",
       "      <td>0.045996</td>\n",
       "    </tr>\n",
       "    <tr>\n",
       "      <th>29</th>\n",
       "      <td>0.045361</td>\n",
       "    </tr>\n",
       "    <tr>\n",
       "      <th>30</th>\n",
       "      <td>0.044985</td>\n",
       "    </tr>\n",
       "    <tr>\n",
       "      <th>31</th>\n",
       "      <td>0.044835</td>\n",
       "    </tr>\n",
       "    <tr>\n",
       "      <th>32</th>\n",
       "      <td>0.044341</td>\n",
       "    </tr>\n",
       "    <tr>\n",
       "      <th>33</th>\n",
       "      <td>0.043405</td>\n",
       "    </tr>\n",
       "    <tr>\n",
       "      <th>34</th>\n",
       "      <td>0.042950</td>\n",
       "    </tr>\n",
       "    <tr>\n",
       "      <th>35</th>\n",
       "      <td>0.041864</td>\n",
       "    </tr>\n",
       "    <tr>\n",
       "      <th>36</th>\n",
       "      <td>0.040804</td>\n",
       "    </tr>\n",
       "    <tr>\n",
       "      <th>37</th>\n",
       "      <td>0.038307</td>\n",
       "    </tr>\n",
       "    <tr>\n",
       "      <th>38</th>\n",
       "      <td>0.036149</td>\n",
       "    </tr>\n",
       "    <tr>\n",
       "      <th>39</th>\n",
       "      <td>0.033275</td>\n",
       "    </tr>\n",
       "    <tr>\n",
       "      <th>40</th>\n",
       "      <td>0.027921</td>\n",
       "    </tr>\n",
       "    <tr>\n",
       "      <th>41</th>\n",
       "      <td>0.025680</td>\n",
       "    </tr>\n",
       "    <tr>\n",
       "      <th>42</th>\n",
       "      <td>0.022334</td>\n",
       "    </tr>\n",
       "    <tr>\n",
       "      <th>43</th>\n",
       "      <td>0.014063</td>\n",
       "    </tr>\n",
       "    <tr>\n",
       "      <th>44</th>\n",
       "      <td>0.011047</td>\n",
       "    </tr>\n",
       "    <tr>\n",
       "      <th>45</th>\n",
       "      <td>0.008068</td>\n",
       "    </tr>\n",
       "    <tr>\n",
       "      <th>46</th>\n",
       "      <td>0.007288</td>\n",
       "    </tr>\n",
       "    <tr>\n",
       "      <th>47</th>\n",
       "      <td>0.006639</td>\n",
       "    </tr>\n",
       "    <tr>\n",
       "      <th>48</th>\n",
       "      <td>0.005723</td>\n",
       "    </tr>\n",
       "    <tr>\n",
       "      <th>49</th>\n",
       "      <td>0.005097</td>\n",
       "    </tr>\n",
       "    <tr>\n",
       "      <th>50</th>\n",
       "      <td>0.004200</td>\n",
       "    </tr>\n",
       "    <tr>\n",
       "      <th>51</th>\n",
       "      <td>0.003399</td>\n",
       "    </tr>\n",
       "    <tr>\n",
       "      <th>52</th>\n",
       "      <td>0.002575</td>\n",
       "    </tr>\n",
       "    <tr>\n",
       "      <th>53</th>\n",
       "      <td>0.001807</td>\n",
       "    </tr>\n",
       "    <tr>\n",
       "      <th>54</th>\n",
       "      <td>0.000929</td>\n",
       "    </tr>\n",
       "    <tr>\n",
       "      <th>55</th>\n",
       "      <td>0.000578</td>\n",
       "    </tr>\n",
       "    <tr>\n",
       "      <th>56</th>\n",
       "      <td>0.000558</td>\n",
       "    </tr>\n",
       "    <tr>\n",
       "      <th>57</th>\n",
       "      <td>0.000538</td>\n",
       "    </tr>\n",
       "    <tr>\n",
       "      <th>58</th>\n",
       "      <td>0.000389</td>\n",
       "    </tr>\n",
       "    <tr>\n",
       "      <th>59</th>\n",
       "      <td>0.000221</td>\n",
       "    </tr>\n",
       "    <tr>\n",
       "      <th>60</th>\n",
       "      <td>0.000074</td>\n",
       "    </tr>\n",
       "  </tbody>\n",
       "</table>\n",
       "</div>"
      ],
      "text/plain": [
       "        count\n",
       "Age          \n",
       "18   0.014221\n",
       "19   0.023807\n",
       "20   0.029031\n",
       "21   0.031596\n",
       "22   0.032876\n",
       "23   0.038978\n",
       "24   0.041727\n",
       "25   0.044755\n",
       "26   0.045863\n",
       "27   0.045745\n",
       "28   0.045996\n",
       "29   0.045361\n",
       "30   0.044985\n",
       "31   0.044835\n",
       "32   0.044341\n",
       "33   0.043405\n",
       "34   0.042950\n",
       "35   0.041864\n",
       "36   0.040804\n",
       "37   0.038307\n",
       "38   0.036149\n",
       "39   0.033275\n",
       "40   0.027921\n",
       "41   0.025680\n",
       "42   0.022334\n",
       "43   0.014063\n",
       "44   0.011047\n",
       "45   0.008068\n",
       "46   0.007288\n",
       "47   0.006639\n",
       "48   0.005723\n",
       "49   0.005097\n",
       "50   0.004200\n",
       "51   0.003399\n",
       "52   0.002575\n",
       "53   0.001807\n",
       "54   0.000929\n",
       "55   0.000578\n",
       "56   0.000558\n",
       "57   0.000538\n",
       "58   0.000389\n",
       "59   0.000221\n",
       "60   0.000074"
      ]
     },
     "execution_count": 106,
     "metadata": {},
     "output_type": "execute_result"
    }
   ],
   "source": [
    "ages = (df[[\"CustomerID\", \"Age\"]].groupby(\"Age\").count() / len(df)).rename(columns={\"CustomerID\":\"count\"})\n",
    "ages"
   ]
  },
  {
   "cell_type": "markdown",
   "metadata": {},
   "source": [
    "### Number of Active Members"
   ]
  },
  {
   "cell_type": "code",
   "execution_count": 77,
   "metadata": {},
   "outputs": [
    {
     "name": "stdout",
     "output_type": "stream",
     "text": [
      "Number of Active Members: 52377\n",
      "Number of Inactive Members: 797656\n"
     ]
    }
   ],
   "source": [
    "print(\"Number of Active Members: {}\".format(df.isnull().sum()['End Date']))\n",
    "print(\"Number of Inactive Members: {}\".format(df.shape[0] - df.isnull().sum()['End Date']))"
   ]
  },
  {
   "cell_type": "markdown",
   "metadata": {},
   "source": [
    "### Affluent Breakdown"
   ]
  },
  {
   "cell_type": "code",
   "execution_count": 78,
   "metadata": {},
   "outputs": [],
   "source": [
    "affluence = (df[[\"CustomerID\", \"Affluence\"]].groupby(\"Affluence\").count() / len(df)).rename(columns={\"CustomerID\":\"count\"})"
   ]
  },
  {
   "cell_type": "code",
   "execution_count": 79,
   "metadata": {},
   "outputs": [
    {
     "data": {
      "text/html": [
       "<div>\n",
       "<style scoped>\n",
       "    .dataframe tbody tr th:only-of-type {\n",
       "        vertical-align: middle;\n",
       "    }\n",
       "\n",
       "    .dataframe tbody tr th {\n",
       "        vertical-align: top;\n",
       "    }\n",
       "\n",
       "    .dataframe thead th {\n",
       "        text-align: right;\n",
       "    }\n",
       "</style>\n",
       "<table border=\"1\" class=\"dataframe\">\n",
       "  <thead>\n",
       "    <tr style=\"text-align: right;\">\n",
       "      <th></th>\n",
       "      <th>count</th>\n",
       "    </tr>\n",
       "    <tr>\n",
       "      <th>Affluence</th>\n",
       "      <th></th>\n",
       "    </tr>\n",
       "  </thead>\n",
       "  <tbody>\n",
       "    <tr>\n",
       "      <th>A</th>\n",
       "      <td>0.168963</td>\n",
       "    </tr>\n",
       "    <tr>\n",
       "      <th>B</th>\n",
       "      <td>0.431667</td>\n",
       "    </tr>\n",
       "    <tr>\n",
       "      <th>C1</th>\n",
       "      <td>0.274486</td>\n",
       "    </tr>\n",
       "    <tr>\n",
       "      <th>C2</th>\n",
       "      <td>0.111062</td>\n",
       "    </tr>\n",
       "    <tr>\n",
       "      <th>DE</th>\n",
       "      <td>0.013823</td>\n",
       "    </tr>\n",
       "  </tbody>\n",
       "</table>\n",
       "</div>"
      ],
      "text/plain": [
       "              count\n",
       "Affluence          \n",
       "A          0.168963\n",
       "B          0.431667\n",
       "C1         0.274486\n",
       "C2         0.111062\n",
       "DE         0.013823"
      ]
     },
     "execution_count": 79,
     "metadata": {},
     "output_type": "execute_result"
    }
   ],
   "source": [
    "affluence"
   ]
  },
  {
   "cell_type": "markdown",
   "metadata": {},
   "source": [
    "Category B has the highest joiners. "
   ]
  },
  {
   "cell_type": "code",
   "execution_count": 107,
   "metadata": {},
   "outputs": [
    {
     "data": {
      "image/png": "[encoded data removed]",
      "text/plain": [
       "<Figure size 360x360 with 1 Axes>"
      ]
     },
     "metadata": {},
     "output_type": "display_data"
    }
   ],
   "source": [
    "plot = affluence.plot.pie(y='count', figsize=(5, 5))"
   ]
  },
  {
   "cell_type": "markdown",
   "metadata": {},
   "source": [
    "### Breakdown of Members who left"
   ]
  },
  {
   "cell_type": "code",
   "execution_count": 139,
   "metadata": {},
   "outputs": [
    {
     "data": {
      "text/plain": [
       "<matplotlib.axes._subplots.AxesSubplot at 0x7fad04eac790>"
      ]
     },
     "execution_count": 139,
     "metadata": {},
     "output_type": "execute_result"
    },
    {
     "data": {
      "image/png": "[encoded data removed]",
      "text/plain": [
       "<Figure size 1080x504 with 1 Axes>"
      ]
     },
     "metadata": {
      "needs_background": "light"
     },
     "output_type": "display_data"
    }
   ],
   "source": [
    "survive = (df[[\"CustomerID\", \"End Date\"]].groupby(\"End Date\").count() / len(df)).rename(columns={\"CustomerID\":\"count\"})\n",
    "fig, ax = plt.subplots(figsize=(15,7))\n",
    "survive.plot(ax=ax)"
   ]
  },
  {
   "cell_type": "markdown",
   "metadata": {},
   "source": [
    "### Break down of New Joiners"
   ]
  },
  {
   "cell_type": "code",
   "execution_count": 140,
   "metadata": {},
   "outputs": [
    {
     "data": {
      "text/plain": [
       "<matplotlib.axes._subplots.AxesSubplot at 0x7fad0534f790>"
      ]
     },
     "execution_count": 140,
     "metadata": {},
     "output_type": "execute_result"
    },
    {
     "data": {
      "image/png": "[encoded data removed]",
      "text/plain": [
       "<Figure size 1080x504 with 1 Axes>"
      ]
     },
     "metadata": {
      "needs_background": "light"
     },
     "output_type": "display_data"
    }
   ],
   "source": [
    "joining = (df[[\"CustomerID\", \"Join Date\"]].groupby(\"Join Date\").count() / len(df)).rename(columns={\"CustomerID\":\"count\"})\n",
    "fig, ax = plt.subplots(figsize=(15,7))\n",
    "joining.plot(ax=ax)"
   ]
  },
  {
   "cell_type": "markdown",
   "metadata": {},
   "source": [
    "## 2009-2010"
   ]
  },
  {
   "cell_type": "code",
   "execution_count": 147,
   "metadata": {},
   "outputs": [
    {
     "data": {
      "text/plain": [
       "<matplotlib.axes._subplots.AxesSubplot at 0x7fad05e270a0>"
      ]
     },
     "execution_count": 147,
     "metadata": {},
     "output_type": "execute_result"
    },
    {
     "data": {
      "image/png": "[encoded data removed]",
      "text/plain": [
       "<Figure size 432x288 with 1 Axes>"
      ]
     },
     "metadata": {
      "needs_background": "light"
     },
     "output_type": "display_data"
    }
   ],
   "source": [
    "joining_09 = joining[0:8]\n",
    "joining_09.plot()"
   ]
  },
  {
   "cell_type": "code",
   "execution_count": 148,
   "metadata": {},
   "outputs": [
    {
     "data": {
      "text/plain": [
       "<matplotlib.axes._subplots.AxesSubplot at 0x7fad05ffd970>"
      ]
     },
     "execution_count": 148,
     "metadata": {},
     "output_type": "execute_result"
    },
    {
     "data": {
      "image/png": "[encoded data removed]",
      "text/plain": [
       "<Figure size 432x288 with 1 Axes>"
      ]
     },
     "metadata": {
      "needs_background": "light"
     },
     "output_type": "display_data"
    }
   ],
   "source": [
    "joining_10 = joining[8:20]\n",
    "joining_10.plot()"
   ]
  },
  {
   "cell_type": "code",
   "execution_count": 149,
   "metadata": {},
   "outputs": [
    {
     "data": {
      "text/plain": [
       "<matplotlib.axes._subplots.AxesSubplot at 0x7fad0377bd90>"
      ]
     },
     "execution_count": 149,
     "metadata": {},
     "output_type": "execute_result"
    },
    {
     "data": {
      "image/png": "[encoded data removed]",
      "text/plain": [
       "<Figure size 432x288 with 1 Axes>"
      ]
     },
     "metadata": {
      "needs_background": "light"
     },
     "output_type": "display_data"
    }
   ],
   "source": [
    "joining_10 = joining[20:32]\n",
    "joining_10.plot()"
   ]
  },
  {
   "cell_type": "code",
   "execution_count": 113,
   "metadata": {},
   "outputs": [],
   "source": [
    "#plot data\n",
    "fig, ax = plt.subplots(figsize=(15,7))\n",
    "df.groupby(['Join Date','type']).count()['amount'].plot(ax=ax)"
   ]
  },
  {
   "cell_type": "code",
   "execution_count": 150,
   "metadata": {},
   "outputs": [
    {
     "data": {
      "text/plain": [
       "<matplotlib.axes._subplots.AxesSubplot at 0x7fad037efc40>"
      ]
     },
     "execution_count": 150,
     "metadata": {},
     "output_type": "execute_result"
    },
    {
     "data": {
      "image/png": "[encoded data removed]",
      "text/plain": [
       "<Figure size 432x288 with 1 Axes>"
      ]
     },
     "metadata": {
      "needs_background": "light"
     },
     "output_type": "display_data"
    }
   ],
   "source": [
    "joining_10 = joining[32:44]\n",
    "joining_10.plot()"
   ]
  },
  {
   "cell_type": "code",
   "execution_count": 151,
   "metadata": {},
   "outputs": [
    {
     "data": {
      "text/plain": [
       "<matplotlib.axes._subplots.AxesSubplot at 0x7fad037ef820>"
      ]
     },
     "execution_count": 151,
     "metadata": {},
     "output_type": "execute_result"
    },
    {
     "data": {
      "image/png": "[encoded data removed]",
      "text/plain": [
       "<Figure size 432x288 with 1 Axes>"
      ]
     },
     "metadata": {
      "needs_background": "light"
     },
     "output_type": "display_data"
    }
   ],
   "source": [
    "joining_10 = joining[44:56]\n",
    "joining_10.plot()"
   ]
  },
  {
   "cell_type": "code",
   "execution_count": null,
   "metadata": {},
   "outputs": [],
   "source": []
  },
  {
   "cell_type": "markdown",
   "metadata": {},
   "source": [
    "Finding the month of joining date. Fall time more joiners compared to Summer? Maybe recommend more advertisements in summer or providing season based offers?"
   ]
  },
  {
   "cell_type": "code",
   "execution_count": 141,
   "metadata": {},
   "outputs": [],
   "source": [
    "subscription = (df[[\"CustomerID\", \"Subscription Type\"]].groupby(\"Subscription Type\").count() / len(df)).rename(columns={\"CustomerID\":\"count\"})"
   ]
  },
  {
   "cell_type": "code",
   "execution_count": 142,
   "metadata": {},
   "outputs": [
    {
     "data": {
      "text/html": [
       "<div>\n",
       "<style scoped>\n",
       "    .dataframe tbody tr th:only-of-type {\n",
       "        vertical-align: middle;\n",
       "    }\n",
       "\n",
       "    .dataframe tbody tr th {\n",
       "        vertical-align: top;\n",
       "    }\n",
       "\n",
       "    .dataframe thead th {\n",
       "        text-align: right;\n",
       "    }\n",
       "</style>\n",
       "<table border=\"1\" class=\"dataframe\">\n",
       "  <thead>\n",
       "    <tr style=\"text-align: right;\">\n",
       "      <th></th>\n",
       "      <th>count</th>\n",
       "    </tr>\n",
       "    <tr>\n",
       "      <th>Subscription Type</th>\n",
       "      <th></th>\n",
       "    </tr>\n",
       "  </thead>\n",
       "  <tbody>\n",
       "    <tr>\n",
       "      <th>Flexible</th>\n",
       "      <td>0.216529</td>\n",
       "    </tr>\n",
       "    <tr>\n",
       "      <th>Standard</th>\n",
       "      <td>0.783471</td>\n",
       "    </tr>\n",
       "  </tbody>\n",
       "</table>\n",
       "</div>"
      ],
      "text/plain": [
       "                      count\n",
       "Subscription Type          \n",
       "Flexible           0.216529\n",
       "Standard           0.783471"
      ]
     },
     "execution_count": 142,
     "metadata": {},
     "output_type": "execute_result"
    }
   ],
   "source": [
    "subscription"
   ]
  },
  {
   "cell_type": "code",
   "execution_count": null,
   "metadata": {},
   "outputs": [],
   "source": []
  },
  {
   "cell_type": "markdown",
   "metadata": {},
   "source": [
    "## Visitdation Data Analysis"
   ]
  },
  {
   "cell_type": "code",
   "execution_count": 91,
   "metadata": {},
   "outputs": [
    {
     "data": {
      "text/html": [
       "<div>\n",
       "<style scoped>\n",
       "    .dataframe tbody tr th:only-of-type {\n",
       "        vertical-align: middle;\n",
       "    }\n",
       "\n",
       "    .dataframe tbody tr th {\n",
       "        vertical-align: top;\n",
       "    }\n",
       "\n",
       "    .dataframe thead th {\n",
       "        text-align: right;\n",
       "    }\n",
       "</style>\n",
       "<table border=\"1\" class=\"dataframe\">\n",
       "  <thead>\n",
       "    <tr style=\"text-align: right;\">\n",
       "      <th></th>\n",
       "      <th>Club</th>\n",
       "      <th>Join Date</th>\n",
       "      <th>Affluence</th>\n",
       "      <th>Gender</th>\n",
       "      <th>Subscription Type</th>\n",
       "      <th>End Date</th>\n",
       "      <th>CustomerID</th>\n",
       "      <th>BirthYear</th>\n",
       "      <th>Age</th>\n",
       "      <th>Membership Length</th>\n",
       "      <th>visitdate</th>\n",
       "      <th>TimeofVisit</th>\n",
       "      <th>peakvisits</th>\n",
       "      <th>HourofVisit</th>\n",
       "    </tr>\n",
       "  </thead>\n",
       "  <tbody>\n",
       "    <tr>\n",
       "      <th>0</th>\n",
       "      <td>Hounslow</td>\n",
       "      <td>2009-05-01</td>\n",
       "      <td>A</td>\n",
       "      <td>Male</td>\n",
       "      <td>Flexible</td>\n",
       "      <td>2009-05-01</td>\n",
       "      <td>539660</td>\n",
       "      <td>1970</td>\n",
       "      <td>39</td>\n",
       "      <td>0 days</td>\n",
       "      <td>2009-05-01</td>\n",
       "      <td>21:45</td>\n",
       "      <td>False</td>\n",
       "      <td>21</td>\n",
       "    </tr>\n",
       "    <tr>\n",
       "      <th>1</th>\n",
       "      <td>Hounslow</td>\n",
       "      <td>2009-05-01</td>\n",
       "      <td>A</td>\n",
       "      <td>Male</td>\n",
       "      <td>Flexible</td>\n",
       "      <td>2009-05-01</td>\n",
       "      <td>539660</td>\n",
       "      <td>1970</td>\n",
       "      <td>39</td>\n",
       "      <td>0 days</td>\n",
       "      <td>2009-05-02</td>\n",
       "      <td>19:15</td>\n",
       "      <td>True</td>\n",
       "      <td>19</td>\n",
       "    </tr>\n",
       "    <tr>\n",
       "      <th>2</th>\n",
       "      <td>Hounslow</td>\n",
       "      <td>2009-05-01</td>\n",
       "      <td>A</td>\n",
       "      <td>Male</td>\n",
       "      <td>Flexible</td>\n",
       "      <td>2009-05-01</td>\n",
       "      <td>539660</td>\n",
       "      <td>1970</td>\n",
       "      <td>39</td>\n",
       "      <td>0 days</td>\n",
       "      <td>2009-05-03</td>\n",
       "      <td>19:15</td>\n",
       "      <td>True</td>\n",
       "      <td>19</td>\n",
       "    </tr>\n",
       "    <tr>\n",
       "      <th>3</th>\n",
       "      <td>Hounslow</td>\n",
       "      <td>2009-05-01</td>\n",
       "      <td>A</td>\n",
       "      <td>Male</td>\n",
       "      <td>Flexible</td>\n",
       "      <td>2009-05-01</td>\n",
       "      <td>539660</td>\n",
       "      <td>1970</td>\n",
       "      <td>39</td>\n",
       "      <td>0 days</td>\n",
       "      <td>2009-05-04</td>\n",
       "      <td>18:45</td>\n",
       "      <td>True</td>\n",
       "      <td>18</td>\n",
       "    </tr>\n",
       "    <tr>\n",
       "      <th>4</th>\n",
       "      <td>Hounslow</td>\n",
       "      <td>2009-05-01</td>\n",
       "      <td>A</td>\n",
       "      <td>Male</td>\n",
       "      <td>Flexible</td>\n",
       "      <td>2009-05-01</td>\n",
       "      <td>539660</td>\n",
       "      <td>1970</td>\n",
       "      <td>39</td>\n",
       "      <td>0 days</td>\n",
       "      <td>2009-05-06</td>\n",
       "      <td>18:30</td>\n",
       "      <td>True</td>\n",
       "      <td>18</td>\n",
       "    </tr>\n",
       "  </tbody>\n",
       "</table>\n",
       "</div>"
      ],
      "text/plain": [
       "       Club  Join Date Affluence Gender Subscription Type   End Date  \\\n",
       "0  Hounslow 2009-05-01         A   Male          Flexible 2009-05-01   \n",
       "1  Hounslow 2009-05-01         A   Male          Flexible 2009-05-01   \n",
       "2  Hounslow 2009-05-01         A   Male          Flexible 2009-05-01   \n",
       "3  Hounslow 2009-05-01         A   Male          Flexible 2009-05-01   \n",
       "4  Hounslow 2009-05-01         A   Male          Flexible 2009-05-01   \n",
       "\n",
       "   CustomerID  BirthYear  Age Membership Length   visitdate TimeofVisit  \\\n",
       "0      539660       1970   39            0 days  2009-05-01       21:45   \n",
       "1      539660       1970   39            0 days  2009-05-02       19:15   \n",
       "2      539660       1970   39            0 days  2009-05-03       19:15   \n",
       "3      539660       1970   39            0 days  2009-05-04       18:45   \n",
       "4      539660       1970   39            0 days  2009-05-06       18:30   \n",
       "\n",
       "   peakvisits  HourofVisit  \n",
       "0       False           21  \n",
       "1        True           19  \n",
       "2        True           19  \n",
       "3        True           18  \n",
       "4        True           18  "
      ]
     },
     "execution_count": 91,
     "metadata": {},
     "output_type": "execute_result"
    }
   ],
   "source": [
    "df_visit1 = pd.read_csv('visitationdataPART1.csv', header = 0, error_bad_lines=False, delimiter = ',')\n",
    "df_visit2 = pd.read_csv('visitationdataPART2.csv', header = 0, error_bad_lines=False, delimiter = ',')\n",
    "df_visitation = pd.concat([df_visit1,df_visit2])\n",
    "\n",
    "merged = pd.merge(df, df_visitation, on='CustomerID')\n",
    "del df_visit1, df_visit2, df_visitation\n",
    "\n",
    "merged['CustomerID'] = merged['CustomerID'].astype('int32')\n",
    "\n",
    "merged['HourofVisit'] = merged['TimeofVisit'].apply(lambda x: int(x[0:2])).replace(0,24)\n",
    "merged.head()"
   ]
  },
  {
   "cell_type": "code",
   "execution_count": 143,
   "metadata": {},
   "outputs": [
    {
     "data": {
      "text/html": [
       "<div>\n",
       "<style scoped>\n",
       "    .dataframe tbody tr th:only-of-type {\n",
       "        vertical-align: middle;\n",
       "    }\n",
       "\n",
       "    .dataframe tbody tr th {\n",
       "        vertical-align: top;\n",
       "    }\n",
       "\n",
       "    .dataframe thead th {\n",
       "        text-align: right;\n",
       "    }\n",
       "</style>\n",
       "<table border=\"1\" class=\"dataframe\">\n",
       "  <thead>\n",
       "    <tr style=\"text-align: right;\">\n",
       "      <th></th>\n",
       "      <th>HourofVisit</th>\n",
       "      <th>Club</th>\n",
       "      <th>count</th>\n",
       "    </tr>\n",
       "  </thead>\n",
       "  <tbody>\n",
       "    <tr>\n",
       "      <th>0</th>\n",
       "      <td>5</td>\n",
       "      <td>Barking</td>\n",
       "      <td>11520.0</td>\n",
       "    </tr>\n",
       "    <tr>\n",
       "      <th>1</th>\n",
       "      <td>5</td>\n",
       "      <td>Barnet</td>\n",
       "      <td>27392.0</td>\n",
       "    </tr>\n",
       "    <tr>\n",
       "      <th>2</th>\n",
       "      <td>5</td>\n",
       "      <td>Bexley</td>\n",
       "      <td>11829.0</td>\n",
       "    </tr>\n",
       "    <tr>\n",
       "      <th>3</th>\n",
       "      <td>5</td>\n",
       "      <td>Brent</td>\n",
       "      <td>14504.0</td>\n",
       "    </tr>\n",
       "    <tr>\n",
       "      <th>4</th>\n",
       "      <td>5</td>\n",
       "      <td>Bromley</td>\n",
       "      <td>9342.0</td>\n",
       "    </tr>\n",
       "    <tr>\n",
       "      <th>...</th>\n",
       "      <td>...</td>\n",
       "      <td>...</td>\n",
       "      <td>...</td>\n",
       "    </tr>\n",
       "    <tr>\n",
       "      <th>635</th>\n",
       "      <td>24</td>\n",
       "      <td>Sutton</td>\n",
       "      <td>3109.0</td>\n",
       "    </tr>\n",
       "    <tr>\n",
       "      <th>636</th>\n",
       "      <td>24</td>\n",
       "      <td>Tower Hamlets</td>\n",
       "      <td>4141.0</td>\n",
       "    </tr>\n",
       "    <tr>\n",
       "      <th>637</th>\n",
       "      <td>24</td>\n",
       "      <td>Waltham Forest</td>\n",
       "      <td>3606.0</td>\n",
       "    </tr>\n",
       "    <tr>\n",
       "      <th>638</th>\n",
       "      <td>24</td>\n",
       "      <td>Wandsworth</td>\n",
       "      <td>3334.0</td>\n",
       "    </tr>\n",
       "    <tr>\n",
       "      <th>639</th>\n",
       "      <td>24</td>\n",
       "      <td>Westminster</td>\n",
       "      <td>4081.0</td>\n",
       "    </tr>\n",
       "  </tbody>\n",
       "</table>\n",
       "<p>640 rows × 3 columns</p>\n",
       "</div>"
      ],
      "text/plain": [
       "     HourofVisit            Club    count\n",
       "0              5         Barking  11520.0\n",
       "1              5          Barnet  27392.0\n",
       "2              5          Bexley  11829.0\n",
       "3              5           Brent  14504.0\n",
       "4              5         Bromley   9342.0\n",
       "..           ...             ...      ...\n",
       "635           24          Sutton   3109.0\n",
       "636           24   Tower Hamlets   4141.0\n",
       "637           24  Waltham Forest   3606.0\n",
       "638           24      Wandsworth   3334.0\n",
       "639           24     Westminster   4081.0\n",
       "\n",
       "[640 rows x 3 columns]"
      ]
     },
     "execution_count": 143,
     "metadata": {},
     "output_type": "execute_result"
    }
   ],
   "source": [
    "hour_table = merged[['HourofVisit','Club','CustomerID']].groupby(['HourofVisit','Club']).count().fillna('0.0').astype(float).rename(columns={\"CustomerID\":\"count\"})\n",
    "hour_table = hour_table.reset_index()\n",
    "hour_table"
   ]
  },
  {
   "cell_type": "code",
   "execution_count": 94,
   "metadata": {},
   "outputs": [
    {
     "data": {
      "text/plain": [
       "<matplotlib.axes._subplots.AxesSubplot at 0x7fb2db189370>"
      ]
     },
     "execution_count": 94,
     "metadata": {},
     "output_type": "execute_result"
    },
    {
     "data": {
      "image/png": "[encoded data removed]",
      "text/plain": [
       "<Figure size 432x288 with 1 Axes>"
      ]
     },
     "metadata": {
      "needs_background": "light"
     },
     "output_type": "display_data"
    }
   ],
   "source": [
    "sns.lineplot(x='HourofVisit', y='count', hue='Club', data=hour_table)"
   ]
  },
  {
   "cell_type": "code",
   "execution_count": 100,
   "metadata": {},
   "outputs": [],
   "source": [
    "visiting = merged[['HourofVisit','Club','CustomerID']].groupby(['HourofVisit','Club']).agg(['sum'])"
   ]
  },
  {
   "cell_type": "code",
   "execution_count": 101,
   "metadata": {},
   "outputs": [
    {
     "data": {
      "text/html": [
       "<div>\n",
       "<style scoped>\n",
       "    .dataframe tbody tr th:only-of-type {\n",
       "        vertical-align: middle;\n",
       "    }\n",
       "\n",
       "    .dataframe tbody tr th {\n",
       "        vertical-align: top;\n",
       "    }\n",
       "\n",
       "    .dataframe thead tr th {\n",
       "        text-align: left;\n",
       "    }\n",
       "\n",
       "    .dataframe thead tr:last-of-type th {\n",
       "        text-align: right;\n",
       "    }\n",
       "</style>\n",
       "<table border=\"1\" class=\"dataframe\">\n",
       "  <thead>\n",
       "    <tr>\n",
       "      <th></th>\n",
       "      <th></th>\n",
       "      <th>CustomerID</th>\n",
       "    </tr>\n",
       "    <tr>\n",
       "      <th></th>\n",
       "      <th></th>\n",
       "      <th>sum</th>\n",
       "    </tr>\n",
       "    <tr>\n",
       "      <th>HourofVisit</th>\n",
       "      <th>Club</th>\n",
       "      <th></th>\n",
       "    </tr>\n",
       "  </thead>\n",
       "  <tbody>\n",
       "    <tr>\n",
       "      <th rowspan=\"5\" valign=\"top\">5</th>\n",
       "      <th>Barking</th>\n",
       "      <td>4.978226e+09</td>\n",
       "    </tr>\n",
       "    <tr>\n",
       "      <th>Barnet</th>\n",
       "      <td>1.170195e+10</td>\n",
       "    </tr>\n",
       "    <tr>\n",
       "      <th>Bexley</th>\n",
       "      <td>4.997076e+09</td>\n",
       "    </tr>\n",
       "    <tr>\n",
       "      <th>Brent</th>\n",
       "      <td>6.186592e+09</td>\n",
       "    </tr>\n",
       "    <tr>\n",
       "      <th>Bromley</th>\n",
       "      <td>3.977048e+09</td>\n",
       "    </tr>\n",
       "    <tr>\n",
       "      <th>...</th>\n",
       "      <th>...</th>\n",
       "      <td>...</td>\n",
       "    </tr>\n",
       "    <tr>\n",
       "      <th rowspan=\"5\" valign=\"top\">24</th>\n",
       "      <th>Sutton</th>\n",
       "      <td>1.307123e+09</td>\n",
       "    </tr>\n",
       "    <tr>\n",
       "      <th>Tower Hamlets</th>\n",
       "      <td>1.724140e+09</td>\n",
       "    </tr>\n",
       "    <tr>\n",
       "      <th>Waltham Forest</th>\n",
       "      <td>1.520741e+09</td>\n",
       "    </tr>\n",
       "    <tr>\n",
       "      <th>Wandsworth</th>\n",
       "      <td>1.422867e+09</td>\n",
       "    </tr>\n",
       "    <tr>\n",
       "      <th>Westminster</th>\n",
       "      <td>1.710472e+09</td>\n",
       "    </tr>\n",
       "  </tbody>\n",
       "</table>\n",
       "<p>640 rows × 1 columns</p>\n",
       "</div>"
      ],
      "text/plain": [
       "                              CustomerID\n",
       "                                     sum\n",
       "HourofVisit Club                        \n",
       "5           Barking         4.978226e+09\n",
       "            Barnet          1.170195e+10\n",
       "            Bexley          4.997076e+09\n",
       "            Brent           6.186592e+09\n",
       "            Bromley         3.977048e+09\n",
       "...                                  ...\n",
       "24          Sutton          1.307123e+09\n",
       "            Tower Hamlets   1.724140e+09\n",
       "            Waltham Forest  1.520741e+09\n",
       "            Wandsworth      1.422867e+09\n",
       "            Westminster     1.710472e+09\n",
       "\n",
       "[640 rows x 1 columns]"
      ]
     },
     "execution_count": 101,
     "metadata": {},
     "output_type": "execute_result"
    }
   ],
   "source": [
    "visiting"
   ]
  },
  {
   "cell_type": "markdown",
   "metadata": {},
   "source": [
    "#TODO: Peak times and recommendations, Which gym has low memberships - find another location?, What times have low volumes - reduce capacity of staff at those times?"
   ]
  },
  {
   "cell_type": "code",
   "execution_count": null,
   "metadata": {},
   "outputs": [],
   "source": []
  }
 ],
 "metadata": {
  "kernelspec": {
   "display_name": "Python 3",
   "language": "python",
   "name": "python3"
  },
  "language_info": {
   "codemirror_mode": {
    "name": "ipython",
    "version": 3
   },
   "file_extension": ".py",
   "mimetype": "text/x-python",
   "name": "python",
   "nbconvert_exporter": "python",
   "pygments_lexer": "ipython3",
   "version": "3.8.3"
  }
 },
 "nbformat": 4,
 "nbformat_minor": 4
}
